{
 "cells": [
  {
   "cell_type": "markdown",
   "metadata": {},
   "source": [
    "## Short script to convert .png images to .jpg"
   ]
  },
  {
   "cell_type": "code",
   "execution_count": 10,
   "metadata": {
    "collapsed": true
   },
   "outputs": [],
   "source": [
    "from PIL import Image\n",
    "import os, sys"
   ]
  },
  {
   "cell_type": "code",
   "execution_count": 3,
   "metadata": {},
   "outputs": [
    {
     "name": "stdout",
     "output_type": "stream",
     "text": [
      "image_douglas_fir_0.png  image_douglas_fir_39.png image_douglas_fir_69.png\r\n",
      "image_douglas_fir_1.png  image_douglas_fir_4.png  image_douglas_fir_7.png\r\n",
      "image_douglas_fir_10.png image_douglas_fir_40.png image_douglas_fir_70.png\r\n",
      "image_douglas_fir_11.png image_douglas_fir_41.png image_douglas_fir_71.png\r\n",
      "image_douglas_fir_12.png image_douglas_fir_42.png image_douglas_fir_72.png\r\n",
      "image_douglas_fir_13.png image_douglas_fir_43.png image_douglas_fir_73.png\r\n",
      "image_douglas_fir_14.png image_douglas_fir_44.png image_douglas_fir_74.png\r\n",
      "image_douglas_fir_15.png image_douglas_fir_45.png image_douglas_fir_75.png\r\n",
      "image_douglas_fir_16.png image_douglas_fir_46.png image_douglas_fir_76.png\r\n",
      "image_douglas_fir_17.png image_douglas_fir_47.png image_douglas_fir_77.png\r\n",
      "image_douglas_fir_18.png image_douglas_fir_48.png image_douglas_fir_78.png\r\n",
      "image_douglas_fir_19.png image_douglas_fir_49.png image_douglas_fir_8.png\r\n",
      "image_douglas_fir_2.png  image_douglas_fir_5.png  image_douglas_fir_80.png\r\n",
      "image_douglas_fir_20.png image_douglas_fir_50.png image_douglas_fir_81.png\r\n",
      "image_douglas_fir_21.png image_douglas_fir_51.png image_douglas_fir_82.png\r\n",
      "image_douglas_fir_22.png image_douglas_fir_52.png image_douglas_fir_83.png\r\n",
      "image_douglas_fir_23.png image_douglas_fir_53.png image_douglas_fir_84.png\r\n",
      "image_douglas_fir_24.png image_douglas_fir_54.png image_douglas_fir_85.png\r\n",
      "image_douglas_fir_25.png image_douglas_fir_55.png image_douglas_fir_86.png\r\n",
      "image_douglas_fir_26.png image_douglas_fir_56.png image_douglas_fir_87.png\r\n",
      "image_douglas_fir_27.png image_douglas_fir_57.png image_douglas_fir_88.png\r\n",
      "image_douglas_fir_28.png image_douglas_fir_58.png image_douglas_fir_89.png\r\n",
      "image_douglas_fir_29.png image_douglas_fir_59.png image_douglas_fir_9.png\r\n",
      "image_douglas_fir_3.png  image_douglas_fir_6.png  image_douglas_fir_90.png\r\n",
      "image_douglas_fir_30.png image_douglas_fir_60.png image_douglas_fir_91.png\r\n",
      "image_douglas_fir_31.png image_douglas_fir_61.png image_douglas_fir_92.png\r\n",
      "image_douglas_fir_32.png image_douglas_fir_62.png image_douglas_fir_93.png\r",
      "\r\n",
      "image_douglas_fir_33.png image_douglas_fir_63.png image_douglas_fir_94.png\r\n",
      "image_douglas_fir_34.png image_douglas_fir_64.png image_douglas_fir_95.png\r\n",
      "image_douglas_fir_35.png image_douglas_fir_65.png image_douglas_fir_96.png\r\n",
      "image_douglas_fir_36.png image_douglas_fir_66.png image_douglas_fir_97.png\r\n",
      "image_douglas_fir_37.png image_douglas_fir_67.png image_douglas_fir_98.png\r\n",
      "image_douglas_fir_38.png image_douglas_fir_68.png image_douglas_fir_99.png\r\n"
     ]
    }
   ],
   "source": [
    "!ls tf_files/tree_photos/douglas_fir/"
   ]
  },
  {
   "cell_type": "code",
   "execution_count": 8,
   "metadata": {
    "collapsed": true
   },
   "outputs": [],
   "source": [
    "im = Image.open('tf_files/tree_photos/douglas_fir/image_douglas_fir_0.png')\n",
    "rgb_im = im.convert('RGB')\n",
    "rgb_im.save('tf_files/tree_photos/douglas_fir/image_douglas_fir_0.jpg')"
   ]
  },
  {
   "cell_type": "code",
   "execution_count": 9,
   "metadata": {},
   "outputs": [
    {
     "name": "stdout",
     "output_type": "stream",
     "text": [
      "image_douglas_fir_0.jpg  image_douglas_fir_39.png image_douglas_fir_7.png\r\n",
      "image_douglas_fir_0.png  image_douglas_fir_4.png  image_douglas_fir_70.png\r\n",
      "image_douglas_fir_1.png  image_douglas_fir_40.png image_douglas_fir_71.png\r\n",
      "image_douglas_fir_10.png image_douglas_fir_41.png image_douglas_fir_72.png\r\n",
      "image_douglas_fir_11.png image_douglas_fir_42.png image_douglas_fir_73.png\r\n",
      "image_douglas_fir_12.png image_douglas_fir_43.png image_douglas_fir_74.png\r\n",
      "image_douglas_fir_13.png image_douglas_fir_44.png image_douglas_fir_75.png\r\n",
      "image_douglas_fir_14.png image_douglas_fir_45.png image_douglas_fir_76.png\r\n",
      "image_douglas_fir_15.png image_douglas_fir_46.png image_douglas_fir_77.png\r\n",
      "image_douglas_fir_16.png image_douglas_fir_47.png image_douglas_fir_78.png\r\n",
      "image_douglas_fir_17.png image_douglas_fir_48.png image_douglas_fir_8.png\r\n",
      "image_douglas_fir_18.png image_douglas_fir_49.png image_douglas_fir_80.png\r\n",
      "image_douglas_fir_19.png image_douglas_fir_5.png  image_douglas_fir_81.png\r\n",
      "image_douglas_fir_2.png  image_douglas_fir_50.png image_douglas_fir_82.png\r\n",
      "image_douglas_fir_20.png image_douglas_fir_51.png image_douglas_fir_83.png\r\n",
      "image_douglas_fir_21.png image_douglas_fir_52.png image_douglas_fir_84.png\r\n",
      "image_douglas_fir_22.png image_douglas_fir_53.png image_douglas_fir_85.png\r\n",
      "image_douglas_fir_23.png image_douglas_fir_54.png image_douglas_fir_86.png\r\n",
      "image_douglas_fir_24.png image_douglas_fir_55.png image_douglas_fir_87.png\r\n",
      "image_douglas_fir_25.png image_douglas_fir_56.png image_douglas_fir_88.png\r\n",
      "image_douglas_fir_26.png image_douglas_fir_57.png image_douglas_fir_89.png\r\n",
      "image_douglas_fir_27.png image_douglas_fir_58.png image_douglas_fir_9.png\r\n",
      "image_douglas_fir_28.png image_douglas_fir_59.png image_douglas_fir_90.png\r\n",
      "image_douglas_fir_29.png image_douglas_fir_6.png  image_douglas_fir_91.png\r\n",
      "image_douglas_fir_3.png  image_douglas_fir_60.png image_douglas_fir_92.png\r\n",
      "image_douglas_fir_30.png image_douglas_fir_61.png image_douglas_fir_93.png\r\n",
      "image_douglas_fir_31.png image_douglas_fir_62.png image_douglas_fir_94.png\r",
      "\r\n",
      "image_douglas_fir_32.png image_douglas_fir_63.png image_douglas_fir_95.png\r\n",
      "image_douglas_fir_33.png image_douglas_fir_64.png image_douglas_fir_96.png\r\n",
      "image_douglas_fir_34.png image_douglas_fir_65.png image_douglas_fir_97.png\r\n",
      "image_douglas_fir_35.png image_douglas_fir_66.png image_douglas_fir_98.png\r\n",
      "image_douglas_fir_36.png image_douglas_fir_67.png image_douglas_fir_99.png\r\n",
      "image_douglas_fir_37.png image_douglas_fir_68.png\r\n",
      "image_douglas_fir_38.png image_douglas_fir_69.png\r\n"
     ]
    }
   ],
   "source": [
    "!ls tf_files/tree_photos/douglas_fir/"
   ]
  },
  {
   "cell_type": "code",
   "execution_count": 19,
   "metadata": {},
   "outputs": [
    {
     "data": {
      "text/plain": [
       "['image_douglas_fir_38.png',\n",
       " 'image_douglas_fir_3.png',\n",
       " 'image_douglas_fir_10.png',\n",
       " 'image_douglas_fir_11.png',\n",
       " 'image_douglas_fir_39.png',\n",
       " 'image_douglas_fir_2.png',\n",
       " 'image_douglas_fir_0.jpg',\n",
       " 'image_douglas_fir_0.png',\n",
       " 'image_douglas_fir_13.png',\n",
       " 'image_douglas_fir_12.png',\n",
       " 'image_douglas_fir_1.png',\n",
       " 'image_douglas_fir_16.png',\n",
       " 'image_douglas_fir_5.png',\n",
       " '.DS_Store',\n",
       " 'image_douglas_fir_4.png',\n",
       " 'image_douglas_fir_17.png',\n",
       " 'image_douglas_fir_15.png',\n",
       " 'image_douglas_fir_29.png',\n",
       " 'image_douglas_fir_6.png',\n",
       " 'image_douglas_fir_7.png',\n",
       " 'image_douglas_fir_28.png',\n",
       " 'image_douglas_fir_14.png',\n",
       " 'image_douglas_fir_98.png',\n",
       " 'image_douglas_fir_73.png',\n",
       " 'image_douglas_fir_67.png',\n",
       " 'image_douglas_fir_66.png',\n",
       " 'image_douglas_fir_72.png',\n",
       " 'image_douglas_fir_99.png',\n",
       " 'image_douglas_fir_58.png',\n",
       " 'image_douglas_fir_64.png',\n",
       " 'image_douglas_fir_70.png',\n",
       " 'image_douglas_fir_71.png',\n",
       " 'image_douglas_fir_65.png',\n",
       " 'image_douglas_fir_59.png',\n",
       " 'image_douglas_fir_61.png',\n",
       " 'image_douglas_fir_75.png',\n",
       " 'image_douglas_fir_49.png',\n",
       " 'image_douglas_fir_48.png',\n",
       " 'image_douglas_fir_74.png',\n",
       " 'image_douglas_fir_60.png',\n",
       " 'image_douglas_fir_89.png',\n",
       " 'image_douglas_fir_76.png',\n",
       " 'image_douglas_fir_62.png',\n",
       " 'image_douglas_fir_63.png',\n",
       " 'image_douglas_fir_77.png',\n",
       " 'image_douglas_fir_88.png',\n",
       " 'image_douglas_fir_91.png',\n",
       " 'image_douglas_fir_85.png',\n",
       " 'image_douglas_fir_52.png',\n",
       " 'image_douglas_fir_46.png',\n",
       " 'image_douglas_fir_47.png',\n",
       " 'image_douglas_fir_53.png',\n",
       " 'image_douglas_fir_84.png',\n",
       " 'image_douglas_fir_90.png',\n",
       " 'image_douglas_fir_86.png',\n",
       " 'image_douglas_fir_92.png',\n",
       " 'image_douglas_fir_45.png',\n",
       " 'image_douglas_fir_51.png',\n",
       " 'image_douglas_fir_50.png',\n",
       " 'image_douglas_fir_44.png',\n",
       " 'image_douglas_fir_78.png',\n",
       " 'image_douglas_fir_93.png',\n",
       " 'image_douglas_fir_87.png',\n",
       " 'image_douglas_fir_83.png',\n",
       " 'image_douglas_fir_97.png',\n",
       " 'image_douglas_fir_40.png',\n",
       " 'image_douglas_fir_54.png',\n",
       " 'image_douglas_fir_68.png',\n",
       " 'image_douglas_fir_69.png',\n",
       " 'image_douglas_fir_55.png',\n",
       " 'image_douglas_fir_41.png',\n",
       " 'image_douglas_fir_96.png',\n",
       " 'image_douglas_fir_82.png',\n",
       " 'image_douglas_fir_94.png',\n",
       " 'image_douglas_fir_80.png',\n",
       " 'image_douglas_fir_57.png',\n",
       " 'image_douglas_fir_43.png',\n",
       " 'image_douglas_fir_42.png',\n",
       " 'image_douglas_fir_56.png',\n",
       " 'image_douglas_fir_81.png',\n",
       " 'image_douglas_fir_95.png',\n",
       " 'image_douglas_fir_19.png',\n",
       " 'image_douglas_fir_31.png',\n",
       " 'image_douglas_fir_25.png',\n",
       " 'image_douglas_fir_24.png',\n",
       " 'image_douglas_fir_30.png',\n",
       " 'image_douglas_fir_18.png',\n",
       " 'image_douglas_fir_26.png',\n",
       " 'image_douglas_fir_32.png',\n",
       " 'image_douglas_fir_9.png',\n",
       " 'image_douglas_fir_33.png',\n",
       " 'image_douglas_fir_8.png',\n",
       " 'image_douglas_fir_27.png',\n",
       " 'image_douglas_fir_23.png',\n",
       " 'image_douglas_fir_37.png',\n",
       " 'image_douglas_fir_36.png',\n",
       " 'image_douglas_fir_22.png',\n",
       " 'image_douglas_fir_34.png',\n",
       " 'image_douglas_fir_20.png',\n",
       " 'image_douglas_fir_21.png',\n",
       " 'image_douglas_fir_35.png']"
      ]
     },
     "execution_count": 19,
     "metadata": {},
     "output_type": "execute_result"
    }
   ],
   "source": [
    "os.listdir('tf_files/tree_photos/douglas_fir/')#[0][:-3]"
   ]
  },
  {
   "cell_type": "code",
   "execution_count": 15,
   "metadata": {
    "collapsed": true
   },
   "outputs": [],
   "source": [
    "def convert_png_to_jpg(filename):\n",
    "    im = Image.open(filename)\n",
    "    rgb_im = im.convert('RGB')\n",
    "    rgb_im.save(filename[:-3] + \"jpg\")"
   ]
  },
  {
   "cell_type": "code",
   "execution_count": 20,
   "metadata": {},
   "outputs": [],
   "source": [
    "#path = 'tf_files/tree_photos/douglas_fir/'\n",
    "def convert_all_pngs_to_jpg(path):\n",
    "    for filename in os.listdir(path):\n",
    "        if len(filename) > 3 and filename[-3:] == 'png':\n",
    "            convert_png_to_jpg(path + filename)"
   ]
  },
  {
   "cell_type": "code",
   "execution_count": 21,
   "metadata": {},
   "outputs": [],
   "source": [
    "convert_all_pngs_to_jpg('tf_files/tree_photos/douglas_fir/')"
   ]
  },
  {
   "cell_type": "code",
   "execution_count": 23,
   "metadata": {},
   "outputs": [],
   "source": [
    "convert_all_pngs_to_jpg('tf_files/tree_photos/london_plane/')"
   ]
  },
  {
   "cell_type": "code",
   "execution_count": 24,
   "metadata": {},
   "outputs": [
    {
     "name": "stdout",
     "output_type": "stream",
     "text": [
      "image_london_plane_0.jpg  image_london_plane_39.png image_london_plane_7.jpg\r\n",
      "image_london_plane_0.png  image_london_plane_4.jpg  image_london_plane_7.png\r\n",
      "image_london_plane_1.jpg  image_london_plane_4.png  image_london_plane_70.jpg\r\n",
      "image_london_plane_1.png  image_london_plane_41.jpg image_london_plane_70.png\r\n",
      "image_london_plane_10.jpg image_london_plane_41.png image_london_plane_71.jpg\r\n",
      "image_london_plane_10.png image_london_plane_43.jpg image_london_plane_71.png\r\n",
      "image_london_plane_11.jpg image_london_plane_43.png image_london_plane_72.jpg\r\n",
      "image_london_plane_11.png image_london_plane_44.jpg image_london_plane_72.png\r\n",
      "image_london_plane_12.jpg image_london_plane_44.png image_london_plane_73.jpg\r\n",
      "image_london_plane_12.png image_london_plane_45.jpg image_london_plane_73.png\r\n",
      "image_london_plane_13.jpg image_london_plane_45.png image_london_plane_75.jpg\r\n",
      "image_london_plane_13.png image_london_plane_46.jpg image_london_plane_75.png\r\n",
      "image_london_plane_14.jpg image_london_plane_46.png image_london_plane_76.jpg\r",
      "\r\n",
      "image_london_plane_14.png image_london_plane_47.jpg image_london_plane_76.png\r\n",
      "image_london_plane_15.jpg image_london_plane_47.png image_london_plane_77.jpg\r\n",
      "image_london_plane_15.png image_london_plane_48.jpg image_london_plane_77.png\r\n",
      "image_london_plane_16.jpg image_london_plane_48.png image_london_plane_78.jpg\r\n",
      "image_london_plane_16.png image_london_plane_49.jpg image_london_plane_78.png\r\n",
      "image_london_plane_17.jpg image_london_plane_49.png image_london_plane_79.jpg\r\n",
      "image_london_plane_17.png image_london_plane_5.jpg  image_london_plane_79.png\r\n",
      "image_london_plane_18.jpg image_london_plane_5.png  image_london_plane_8.jpg\r\n",
      "image_london_plane_18.png image_london_plane_50.jpg image_london_plane_8.png\r\n",
      "image_london_plane_19.jpg image_london_plane_50.png image_london_plane_80.jpg\r\n",
      "image_london_plane_19.png image_london_plane_51.jpg image_london_plane_80.png\r\n",
      "image_london_plane_2.jpg  image_london_plane_51.png image_london_plane_81.jpg\r\n",
      "image_london_plane_2.png  image_london_plane_52.jpg image_london_plane_81.png\r\n",
      "image_london_plane_20.jpg image_london_plane_52.png image_london_plane_82.jpg\r\n",
      "image_london_plane_20.png image_london_plane_53.jpg image_london_plane_82.png\r\n",
      "image_london_plane_21.jpg image_london_plane_53.png image_london_plane_83.jpg\r\n",
      "image_london_plane_21.png image_london_plane_54.jpg image_london_plane_83.png\r\n",
      "image_london_plane_23.jpg image_london_plane_54.png image_london_plane_84.jpg\r\n",
      "image_london_plane_23.png image_london_plane_55.jpg image_london_plane_84.png\r\n",
      "image_london_plane_24.jpg image_london_plane_55.png image_london_plane_85.jpg\r\n",
      "image_london_plane_24.png image_london_plane_56.jpg image_london_plane_85.png\r\n",
      "image_london_plane_25.jpg image_london_plane_56.png image_london_plane_86.jpg\r\n",
      "image_london_plane_25.png image_london_plane_57.jpg image_london_plane_86.png\r\n",
      "image_london_plane_26.jpg image_london_plane_57.png image_london_plane_87.jpg\r\n",
      "image_london_plane_26.png image_london_plane_58.jpg image_london_plane_87.png\r\n",
      "image_london_plane_27.jpg image_london_plane_58.png image_london_plane_88.jpg\r\n",
      "image_london_plane_27.png image_london_plane_59.jpg image_london_plane_88.png\r\n",
      "image_london_plane_28.jpg image_london_plane_59.png image_london_plane_89.jpg\r\n",
      "image_london_plane_28.png image_london_plane_6.jpg  image_london_plane_89.png\r\n",
      "image_london_plane_29.jpg image_london_plane_6.png  image_london_plane_9.jpg\r\n",
      "image_london_plane_29.png image_london_plane_60.jpg image_london_plane_9.png\r\n",
      "image_london_plane_3.jpg  image_london_plane_60.png image_london_plane_90.jpg\r\n",
      "image_london_plane_3.png  image_london_plane_61.jpg image_london_plane_90.png\r\n",
      "image_london_plane_30.jpg image_london_plane_61.png image_london_plane_91.jpg\r\n",
      "image_london_plane_30.png image_london_plane_62.jpg image_london_plane_91.png\r\n",
      "image_london_plane_31.jpg image_london_plane_62.png image_london_plane_92.jpg\r\n",
      "image_london_plane_31.png image_london_plane_63.jpg image_london_plane_92.png\r\n",
      "image_london_plane_32.jpg image_london_plane_63.png image_london_plane_93.jpg\r\n",
      "image_london_plane_32.png image_london_plane_64.jpg image_london_plane_93.png\r\n",
      "image_london_plane_34.jpg image_london_plane_64.png image_london_plane_94.jpg\r\n",
      "image_london_plane_34.png image_london_plane_65.jpg image_london_plane_94.png\r\n",
      "image_london_plane_35.jpg image_london_plane_65.png image_london_plane_95.jpg\r\n",
      "image_london_plane_35.png image_london_plane_66.jpg image_london_plane_95.png\r\n",
      "image_london_plane_36.jpg image_london_plane_66.png image_london_plane_96.jpg\r\n",
      "image_london_plane_36.png image_london_plane_67.jpg image_london_plane_96.png\r\n",
      "image_london_plane_37.jpg image_london_plane_67.png image_london_plane_97.jpg\r\n",
      "image_london_plane_37.png image_london_plane_68.jpg image_london_plane_97.png\r\n",
      "image_london_plane_38.jpg image_london_plane_68.png image_london_plane_99.jpg\r\n",
      "image_london_plane_38.png image_london_plane_69.jpg image_london_plane_99.png\r\n",
      "image_london_plane_39.jpg image_london_plane_69.png\r\n"
     ]
    }
   ],
   "source": [
    "!ls tf_files/tree_photos/london_plane/"
   ]
  },
  {
   "cell_type": "code",
   "execution_count": null,
   "metadata": {
    "collapsed": true
   },
   "outputs": [],
   "source": []
  }
 ],
 "metadata": {
  "kernelspec": {
   "display_name": "Python 3",
   "language": "python",
   "name": "python3"
  },
  "language_info": {
   "codemirror_mode": {
    "name": "ipython",
    "version": 3
   },
   "file_extension": ".py",
   "mimetype": "text/x-python",
   "name": "python",
   "nbconvert_exporter": "python",
   "pygments_lexer": "ipython3",
   "version": "3.6.3"
  }
 },
 "nbformat": 4,
 "nbformat_minor": 2
}
